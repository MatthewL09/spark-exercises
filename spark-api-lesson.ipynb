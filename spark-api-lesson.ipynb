{
 "cells": [
  {
   "cell_type": "markdown",
   "id": "59b10adf",
   "metadata": {},
   "source": [
    "# Spark API\n",
    "\n",
    "[Lesson Diagram](https://codeupclassroom.github.io/florence-spark-exercises/)"
   ]
  },
  {
   "cell_type": "code",
   "execution_count": 1,
   "id": "0f17faeb",
   "metadata": {},
   "outputs": [],
   "source": [
    "import pydataset\n",
    "import pyspark"
   ]
  },
  {
   "cell_type": "code",
   "execution_count": 12,
   "id": "c26158de",
   "metadata": {},
   "outputs": [],
   "source": [
    "# all of the stuff we will do will be in .sql as seen below\n",
    "spark = pyspark.sql.SparkSession.builder.getOrCreate()\n",
    "# any pandas dataframe can be given to spark for a spark dataframe\n",
    "df = spark.createDataFrame(pydataset.data('tips'))"
   ]
  },
  {
   "cell_type": "markdown",
   "id": "8f34996d",
   "metadata": {},
   "source": [
    "## Dataframe Basics\n",
    "\n",
    "- Creating Dataframes\n",
    "- Viewing dataframe contents\n",
    "- Selecting Columns\n",
    "- Creating Columns"
   ]
  },
  {
   "cell_type": "code",
   "execution_count": 4,
   "id": "3a195c38-c317-4c69-8f64-129105bac97e",
   "metadata": {},
   "outputs": [
    {
     "data": {
      "text/plain": [
       "DataFrame[total_bill: double, tip: double, sex: string, smoker: string, day: string, time: string, size: bigint]"
      ]
     },
     "execution_count": 4,
     "metadata": {},
     "output_type": "execute_result"
    }
   ],
   "source": [
    "# spark df, but no contents are visible. spark is lazy. df won't be pulled until we tell it to. .show\n",
    "df"
   ]
  },
  {
   "cell_type": "code",
   "execution_count": 7,
   "id": "17b8376d-1201-4457-bacd-f6293eb96a7b",
   "metadata": {},
   "outputs": [
    {
     "name": "stdout",
     "output_type": "stream",
     "text": [
      "+----------+----+------+------+---+------+----+\n",
      "|total_bill| tip|   sex|smoker|day|  time|size|\n",
      "+----------+----+------+------+---+------+----+\n",
      "|     16.99|1.01|Female|    No|Sun|Dinner|   2|\n",
      "|     10.34|1.66|  Male|    No|Sun|Dinner|   3|\n",
      "|     21.01| 3.5|  Male|    No|Sun|Dinner|   3|\n",
      "|     23.68|3.31|  Male|    No|Sun|Dinner|   2|\n",
      "|     24.59|3.61|Female|    No|Sun|Dinner|   4|\n",
      "|     25.29|4.71|  Male|    No|Sun|Dinner|   4|\n",
      "|      8.77| 2.0|  Male|    No|Sun|Dinner|   2|\n",
      "|     26.88|3.12|  Male|    No|Sun|Dinner|   4|\n",
      "|     15.04|1.96|  Male|    No|Sun|Dinner|   2|\n",
      "|     14.78|3.23|  Male|    No|Sun|Dinner|   2|\n",
      "|     10.27|1.71|  Male|    No|Sun|Dinner|   2|\n",
      "|     35.26| 5.0|Female|    No|Sun|Dinner|   4|\n",
      "|     15.42|1.57|  Male|    No|Sun|Dinner|   2|\n",
      "|     18.43| 3.0|  Male|    No|Sun|Dinner|   4|\n",
      "|     14.83|3.02|Female|    No|Sun|Dinner|   2|\n",
      "|     21.58|3.92|  Male|    No|Sun|Dinner|   2|\n",
      "|     10.33|1.67|Female|    No|Sun|Dinner|   3|\n",
      "|     16.29|3.71|  Male|    No|Sun|Dinner|   3|\n",
      "|     16.97| 3.5|Female|    No|Sun|Dinner|   3|\n",
      "|     20.65|3.35|  Male|    No|Sat|Dinner|   3|\n",
      "+----------+----+------+------+---+------+----+\n",
      "only showing top 20 rows\n",
      "\n"
     ]
    }
   ],
   "source": [
    "# 20 columns by default\n",
    "# reassignment will be nothing with the .show function. careful about reassigning\n",
    "# .show is just an overview\n",
    "df.show()"
   ]
  },
  {
   "cell_type": "code",
   "execution_count": 8,
   "id": "283fdad4-a8d8-46f5-8f31-0747905133f9",
   "metadata": {},
   "outputs": [
    {
     "data": {
      "text/plain": [
       "[Row(total_bill=16.99, tip=1.01, sex='Female', smoker='No', day='Sun', time='Dinner', size=2),\n",
       " Row(total_bill=10.34, tip=1.66, sex='Male', smoker='No', day='Sun', time='Dinner', size=3),\n",
       " Row(total_bill=21.01, tip=3.5, sex='Male', smoker='No', day='Sun', time='Dinner', size=3),\n",
       " Row(total_bill=23.68, tip=3.31, sex='Male', smoker='No', day='Sun', time='Dinner', size=2),\n",
       " Row(total_bill=24.59, tip=3.61, sex='Female', smoker='No', day='Sun', time='Dinner', size=4)]"
      ]
     },
     "execution_count": 8,
     "metadata": {},
     "output_type": "execute_result"
    }
   ],
   "source": [
    "# python list of row objects\n",
    "df.head(5)"
   ]
  },
  {
   "cell_type": "code",
   "execution_count": 9,
   "id": "20425231-ac97-43e8-a15b-fa38acf8d867",
   "metadata": {},
   "outputs": [
    {
     "data": {
      "text/plain": [
       "['Dinner', 'Dinner', 'Dinner', 'Dinner', 'Dinner']"
      ]
     },
     "execution_count": 9,
     "metadata": {},
     "output_type": "execute_result"
    }
   ],
   "source": [
    "[row.time for row in df.head(5)]"
   ]
  },
  {
   "cell_type": "code",
   "execution_count": 11,
   "id": "1afca886-f7ba-4353-a81c-9c6e2566c5ad",
   "metadata": {},
   "outputs": [
    {
     "data": {
      "text/plain": [
       "Row(total_bill=16.99, tip=1.01, sex='Female', smoker='No', day='Sun', time='Dinner', size=2)"
      ]
     },
     "execution_count": 11,
     "metadata": {},
     "output_type": "execute_result"
    }
   ],
   "source": [
    "# you will only get the first row. a number needs to be passed to get more than just the first number\n",
    "# generally speaking .show most often used. .head will allow you to work with the values programmatically because it will give you the contents in a python variable\n",
    "df.head()"
   ]
  },
  {
   "cell_type": "code",
   "execution_count": 13,
   "id": "696bb0d6-4076-45a1-91c3-a387fa75c218",
   "metadata": {},
   "outputs": [
    {
     "name": "stdout",
     "output_type": "stream",
     "text": [
      "+----+----------+\n",
      "| tip|total_bill|\n",
      "+----+----------+\n",
      "|1.01|     16.99|\n",
      "|1.66|     10.34|\n",
      "| 3.5|     21.01|\n",
      "|3.31|     23.68|\n",
      "|3.61|     24.59|\n",
      "+----+----------+\n",
      "only showing top 5 rows\n",
      "\n"
     ]
    }
   ],
   "source": [
    "# selecting a subset of the columns\n",
    "# dont forget .show to actually view\n",
    "df.select('tip', 'total_bill').show(5)"
   ]
  },
  {
   "cell_type": "code",
   "execution_count": 14,
   "id": "77828add-6b30-4433-a365-a2cf2bb13784",
   "metadata": {},
   "outputs": [
    {
     "data": {
      "text/plain": [
       "Column<'total_bill'>"
      ]
     },
     "execution_count": 14,
     "metadata": {},
     "output_type": "execute_result"
    }
   ],
   "source": [
    "# in pandas you would get a series of values.\n",
    "# in spark this represents a transformation to the dataframe. \n",
    "# in spark a column NEEDS to exist in a dataframe. it cannot exist by itself\n",
    "df.total_bill"
   ]
  },
  {
   "cell_type": "code",
   "execution_count": 19,
   "id": "cc3e51d3-2b08-4a5d-a32a-bf613ebf994e",
   "metadata": {},
   "outputs": [
    {
     "name": "stdout",
     "output_type": "stream",
     "text": [
      "+----+-----------+\n",
      "| tip|bill_amount|\n",
      "+----+-----------+\n",
      "|1.01|      16.99|\n",
      "|1.66|      10.34|\n",
      "| 3.5|      21.01|\n",
      "|3.31|      23.68|\n",
      "|3.61|      24.59|\n",
      "+----+-----------+\n",
      "only showing top 5 rows\n",
      "\n"
     ]
    }
   ],
   "source": [
    "# .alias will rename a column\n",
    "df.select('tip', df.total_bill.alias('bill_amount')).show(5)"
   ]
  },
  {
   "cell_type": "code",
   "execution_count": 22,
   "id": "788fbd74-b859-417a-98da-1e34eb7fda7d",
   "metadata": {},
   "outputs": [
    {
     "name": "stdout",
     "output_type": "stream",
     "text": [
      "+------------------------------------+\n",
      "|(tip / total_bill AS tip_percentage)|\n",
      "+------------------------------------+\n",
      "|                 0.05944673337257211|\n",
      "|                 0.16054158607350097|\n",
      "|                 0.16658733936220846|\n",
      "|                  0.1397804054054054|\n",
      "|                 0.14680764538430255|\n",
      "+------------------------------------+\n",
      "only showing top 5 rows\n",
      "\n"
     ]
    }
   ],
   "source": [
    "# creating a new column by itself.\n",
    "# this is a dataframe all in itself. no work to original df has been done\n",
    "df.select(df.tip/df.total_bill.alias('tip_percentage')).show(5)"
   ]
  },
  {
   "cell_type": "code",
   "execution_count": 23,
   "id": "dc27183c-7489-43ca-b5fc-5e03d5370180",
   "metadata": {},
   "outputs": [
    {
     "name": "stdout",
     "output_type": "stream",
     "text": [
      "+----+----------+-------------------+\n",
      "| tip|total_bill|     tip_percentage|\n",
      "+----+----------+-------------------+\n",
      "|1.01|     16.99|0.05944673337257211|\n",
      "|1.66|     10.34|0.16054158607350097|\n",
      "| 3.5|     21.01|0.16658733936220846|\n",
      "|3.31|     23.68| 0.1397804054054054|\n",
      "|3.61|     24.59|0.14680764538430255|\n",
      "+----+----------+-------------------+\n",
      "only showing top 5 rows\n",
      "\n"
     ]
    }
   ],
   "source": [
    "# the .show is what will create a nonetype. This is what we need to be careful of when reassigning\n",
    "\n",
    "# THIS IS A LOT FOR ONE SELECT STATEMENT. INSTEAD ASSIGN A VARIABLE AND THEN USE\n",
    "\n",
    "df.select('tip', 'total_bill', (df.tip / df.total_bill).alias('tip_percentage')).show(5)"
   ]
  },
  {
   "cell_type": "code",
   "execution_count": 25,
   "id": "869840da-765c-4505-b7f5-db0538ff93d2",
   "metadata": {},
   "outputs": [
    {
     "name": "stdout",
     "output_type": "stream",
     "text": [
      "+----------+----+------+------+---+------+----+\n",
      "|total_bill| tip|   sex|smoker|day|  time|size|\n",
      "+----------+----+------+------+---+------+----+\n",
      "|     16.99|1.01|Female|    No|Sun|Dinner|   2|\n",
      "|     10.34|1.66|  Male|    No|Sun|Dinner|   3|\n",
      "|     21.01| 3.5|  Male|    No|Sun|Dinner|   3|\n",
      "|     23.68|3.31|  Male|    No|Sun|Dinner|   2|\n",
      "|     24.59|3.61|Female|    No|Sun|Dinner|   4|\n",
      "+----------+----+------+------+---+------+----+\n",
      "only showing top 5 rows\n",
      "\n"
     ]
    }
   ],
   "source": [
    "tip_percentage = (df.tip / df.total_bill).alias('tip_percentage')\n",
    "df3 = df.select('tip', 'total_bill', tip_percentage)\n",
    "df.show(5)"
   ]
  },
  {
   "cell_type": "code",
   "execution_count": 28,
   "id": "7307643b-819a-4479-bc31-e2e710896f8b",
   "metadata": {},
   "outputs": [
    {
     "name": "stdout",
     "output_type": "stream",
     "text": [
      "+----------+----+------+------+---+------+----+-------------------+\n",
      "|total_bill| tip|   sex|smoker|day|  time|size|     tip_percentage|\n",
      "+----------+----+------+------+---+------+----+-------------------+\n",
      "|     16.99|1.01|Female|    No|Sun|Dinner|   2|0.05944673337257211|\n",
      "|     10.34|1.66|  Male|    No|Sun|Dinner|   3|0.16054158607350097|\n",
      "|     21.01| 3.5|  Male|    No|Sun|Dinner|   3|0.16658733936220846|\n",
      "|     23.68|3.31|  Male|    No|Sun|Dinner|   2| 0.1397804054054054|\n",
      "|     24.59|3.61|Female|    No|Sun|Dinner|   4|0.14680764538430255|\n",
      "+----------+----+------+------+---+------+----+-------------------+\n",
      "only showing top 5 rows\n",
      "\n"
     ]
    }
   ],
   "source": [
    "# * performs in spark like in SQL. selects all, and then using the variable created to add onto varible\n",
    "df.select('*', tip_percentage).show(5)"
   ]
  },
  {
   "cell_type": "code",
   "execution_count": 30,
   "id": "839cc9cd-3a6d-404a-aefe-2b1889e62cd5",
   "metadata": {},
   "outputs": [
    {
     "name": "stdout",
     "output_type": "stream",
     "text": [
      "+-----------+-------------------+\n",
      "|bill_amount|     tip_percentage|\n",
      "+-----------+-------------------+\n",
      "|      16.99|0.05944673337257211|\n",
      "|      10.34|0.16054158607350097|\n",
      "|      21.01|0.16658733936220846|\n",
      "|      23.68| 0.1397804054054054|\n",
      "|      24.59|0.14680764538430255|\n",
      "+-----------+-------------------+\n",
      "only showing top 5 rows\n",
      "\n"
     ]
    }
   ],
   "source": [
    "# writing SQL code \n",
    "# spark can still read and apply SQL code\n",
    "df.selectExpr('total_bill as bill_amount', 'tip / total_bill as tip_percentage').show(5)"
   ]
  },
  {
   "cell_type": "code",
   "execution_count": null,
   "id": "fdae5694-1f2a-4346-adc7-e5da471c1bba",
   "metadata": {},
   "outputs": [],
   "source": []
  },
  {
   "cell_type": "code",
   "execution_count": 9,
   "id": "bf271775",
   "metadata": {},
   "outputs": [
    {
     "name": "stdout",
     "output_type": "stream",
     "text": [
      "+----------+----+------+------+---+------+----+\n",
      "|total_bill| tip|   sex|smoker|day|  time|size|\n",
      "+----------+----+------+------+---+------+----+\n",
      "|     16.99|1.01|Female|    No|Sun|Dinner|   2|\n",
      "|     10.34|1.66|  Male|    No|Sun|Dinner|   3|\n",
      "|     21.01| 3.5|  Male|    No|Sun|Dinner|   3|\n",
      "|     23.68|3.31|  Male|    No|Sun|Dinner|   2|\n",
      "|     24.59|3.61|Female|    No|Sun|Dinner|   4|\n",
      "|     25.29|4.71|  Male|    No|Sun|Dinner|   4|\n",
      "|      8.77| 2.0|  Male|    No|Sun|Dinner|   2|\n",
      "|     26.88|3.12|  Male|    No|Sun|Dinner|   4|\n",
      "|     15.04|1.96|  Male|    No|Sun|Dinner|   2|\n",
      "|     14.78|3.23|  Male|    No|Sun|Dinner|   2|\n",
      "|     10.27|1.71|  Male|    No|Sun|Dinner|   2|\n",
      "|     35.26| 5.0|Female|    No|Sun|Dinner|   4|\n",
      "|     15.42|1.57|  Male|    No|Sun|Dinner|   2|\n",
      "|     18.43| 3.0|  Male|    No|Sun|Dinner|   4|\n",
      "|     14.83|3.02|Female|    No|Sun|Dinner|   2|\n",
      "|     21.58|3.92|  Male|    No|Sun|Dinner|   2|\n",
      "|     10.33|1.67|Female|    No|Sun|Dinner|   3|\n",
      "|     16.29|3.71|  Male|    No|Sun|Dinner|   3|\n",
      "|     16.97| 3.5|Female|    No|Sun|Dinner|   3|\n",
      "|     20.65|3.35|  Male|    No|Sat|Dinner|   3|\n",
      "+----------+----+------+------+---+------+----+\n",
      "only showing top 20 rows\n",
      "\n"
     ]
    }
   ],
   "source": [
    "df2 = df.show()"
   ]
  },
  {
   "cell_type": "code",
   "execution_count": 11,
   "id": "78a050d7",
   "metadata": {},
   "outputs": [
    {
     "data": {
      "text/plain": [
       "NoneType"
      ]
     },
     "execution_count": 11,
     "metadata": {},
     "output_type": "execute_result"
    }
   ],
   "source": [
    "type(df2)"
   ]
  },
  {
   "cell_type": "code",
   "execution_count": 16,
   "id": "e66ec126",
   "metadata": {},
   "outputs": [
    {
     "data": {
      "text/plain": [
       "Row(total_bill=16.99, tip=1.01, sex='Female', smoker='No', day='Sun', time='Dinner', size=2)"
      ]
     },
     "execution_count": 16,
     "metadata": {},
     "output_type": "execute_result"
    }
   ],
   "source": [
    "df.head()"
   ]
  },
  {
   "cell_type": "code",
   "execution_count": 13,
   "id": "ff75eac5",
   "metadata": {},
   "outputs": [
    {
     "data": {
      "text/plain": [
       "['Dinner', 'Dinner', 'Dinner', 'Dinner', 'Dinner']"
      ]
     },
     "execution_count": 13,
     "metadata": {},
     "output_type": "execute_result"
    }
   ],
   "source": [
    "[row.time for row in df.head(5)]"
   ]
  },
  {
   "cell_type": "code",
   "execution_count": 18,
   "id": "49d9a290",
   "metadata": {},
   "outputs": [
    {
     "name": "stdout",
     "output_type": "stream",
     "text": [
      "+----+----------+\n",
      "| tip|total_bill|\n",
      "+----+----------+\n",
      "|1.01|     16.99|\n",
      "|1.66|     10.34|\n",
      "| 3.5|     21.01|\n",
      "|3.31|     23.68|\n",
      "|3.61|     24.59|\n",
      "+----+----------+\n",
      "only showing top 5 rows\n",
      "\n"
     ]
    }
   ],
   "source": [
    "df.select('tip', 'total_bill').show(5)"
   ]
  },
  {
   "cell_type": "code",
   "execution_count": 19,
   "id": "c2cd2952",
   "metadata": {},
   "outputs": [
    {
     "data": {
      "text/plain": [
       "Column<'total_bill'>"
      ]
     },
     "execution_count": 19,
     "metadata": {},
     "output_type": "execute_result"
    }
   ],
   "source": [
    "df.total_bill"
   ]
  },
  {
   "cell_type": "code",
   "execution_count": 34,
   "id": "444e97a0",
   "metadata": {
    "scrolled": true
   },
   "outputs": [
    {
     "name": "stdout",
     "output_type": "stream",
     "text": [
      "+----+-----------+\n",
      "| tip|bill_amount|\n",
      "+----+-----------+\n",
      "|1.01|      16.99|\n",
      "|1.66|      10.34|\n",
      "| 3.5|      21.01|\n",
      "|3.31|      23.68|\n",
      "|3.61|      24.59|\n",
      "+----+-----------+\n",
      "only showing top 5 rows\n",
      "\n"
     ]
    }
   ],
   "source": [
    "# DONT DO THIS\n",
    "# df = df.select('tip', df.total_bill.alias('bill_amount')).show(5)"
   ]
  },
  {
   "cell_type": "code",
   "execution_count": 35,
   "id": "6de2bba7",
   "metadata": {},
   "outputs": [
    {
     "ename": "AttributeError",
     "evalue": "'NoneType' object has no attribute 'select'",
     "output_type": "error",
     "traceback": [
      "\u001b[0;31m---------------------------------------------------------------------------\u001b[0m",
      "\u001b[0;31mAttributeError\u001b[0m                            Traceback (most recent call last)",
      "\u001b[0;32m/var/folders/m_/46658lw520jdpw8tsn6j2s2c0000gp/T/ipykernel_8590/726340571.py\u001b[0m in \u001b[0;36m<module>\u001b[0;34m\u001b[0m\n\u001b[0;32m----> 1\u001b[0;31m \u001b[0mdf\u001b[0m\u001b[0;34m.\u001b[0m\u001b[0mselect\u001b[0m\u001b[0;34m(\u001b[0m\u001b[0;34m'tip'\u001b[0m\u001b[0;34m)\u001b[0m\u001b[0;34m.\u001b[0m\u001b[0mshow\u001b[0m\u001b[0;34m(\u001b[0m\u001b[0;34m)\u001b[0m\u001b[0;34m\u001b[0m\u001b[0;34m\u001b[0m\u001b[0m\n\u001b[0m",
      "\u001b[0;31mAttributeError\u001b[0m: 'NoneType' object has no attribute 'select'"
     ]
    }
   ],
   "source": [
    "df.select('tip').show()"
   ]
  },
  {
   "cell_type": "code",
   "execution_count": 37,
   "id": "28cc13d9",
   "metadata": {},
   "outputs": [
    {
     "name": "stdout",
     "output_type": "stream",
     "text": [
      "+----+----------+-------------------+\n",
      "| tip|total_bill|     tip_percentage|\n",
      "+----+----------+-------------------+\n",
      "|1.01|     16.99|0.05944673337257211|\n",
      "|1.66|     10.34|0.16054158607350097|\n",
      "| 3.5|     21.01|0.16658733936220846|\n",
      "|3.31|     23.68| 0.1397804054054054|\n",
      "|3.61|     24.59|0.14680764538430255|\n",
      "+----+----------+-------------------+\n",
      "only showing top 5 rows\n",
      "\n"
     ]
    }
   ],
   "source": [
    "tip_percentage = (df.tip / df.total_bill).alias('tip_percentage')\n",
    "df3 = df.select('tip', 'total_bill', tip_percentage)\n",
    "df3.show(5)"
   ]
  },
  {
   "cell_type": "code",
   "execution_count": 32,
   "id": "9fd3f85c",
   "metadata": {},
   "outputs": [
    {
     "data": {
      "text/plain": [
       "DataFrame[total_bill: double, tip: double, sex: string, smoker: string, day: string, time: string, size: bigint]"
      ]
     },
     "execution_count": 32,
     "metadata": {},
     "output_type": "execute_result"
    }
   ],
   "source": [
    "df"
   ]
  },
  {
   "cell_type": "code",
   "execution_count": 33,
   "id": "1d2d8289",
   "metadata": {},
   "outputs": [
    {
     "data": {
      "text/plain": [
       "DataFrame[tip: double, total_bill: double, tip_percentage: double]"
      ]
     },
     "execution_count": 33,
     "metadata": {},
     "output_type": "execute_result"
    }
   ],
   "source": [
    "df3"
   ]
  },
  {
   "cell_type": "code",
   "execution_count": 40,
   "id": "41bc6369",
   "metadata": {},
   "outputs": [
    {
     "name": "stdout",
     "output_type": "stream",
     "text": [
      "+----------+----+------+------+---+------+----+-------------------+\n",
      "|total_bill| tip|   sex|smoker|day|  time|size|     tip_percentage|\n",
      "+----------+----+------+------+---+------+----+-------------------+\n",
      "|     16.99|1.01|Female|    No|Sun|Dinner|   2|0.05944673337257211|\n",
      "|     10.34|1.66|  Male|    No|Sun|Dinner|   3|0.16054158607350097|\n",
      "|     21.01| 3.5|  Male|    No|Sun|Dinner|   3|0.16658733936220846|\n",
      "|     23.68|3.31|  Male|    No|Sun|Dinner|   2| 0.1397804054054054|\n",
      "|     24.59|3.61|Female|    No|Sun|Dinner|   4|0.14680764538430255|\n",
      "+----------+----+------+------+---+------+----+-------------------+\n",
      "only showing top 5 rows\n",
      "\n"
     ]
    }
   ],
   "source": [
    "df.select('*', tip_percentage).show(5)"
   ]
  },
  {
   "cell_type": "code",
   "execution_count": 42,
   "id": "82393246",
   "metadata": {},
   "outputs": [
    {
     "name": "stdout",
     "output_type": "stream",
     "text": [
      "+-----------+-------------------+\n",
      "|bill_amount|     tip_percentage|\n",
      "+-----------+-------------------+\n",
      "|      16.99|0.05944673337257211|\n",
      "|      10.34|0.16054158607350097|\n",
      "|      21.01|0.16658733936220846|\n",
      "|      23.68| 0.1397804054054054|\n",
      "|      24.59|0.14680764538430255|\n",
      "+-----------+-------------------+\n",
      "only showing top 5 rows\n",
      "\n"
     ]
    }
   ],
   "source": [
    "df.selectExpr('total_bill as bill_amount', 'tip / total_bill as tip_percentage').show(5)"
   ]
  },
  {
   "cell_type": "markdown",
   "id": "1c984386-9b4d-4817-b666-4c7ef1b38914",
   "metadata": {},
   "source": [
    "## START OF MINI EXERCISES"
   ]
  },
  {
   "cell_type": "code",
   "execution_count": 68,
   "id": "af6fb40b",
   "metadata": {},
   "outputs": [],
   "source": [
    "import numpy as np\n",
    "import pandas as pd\n",
    "\n",
    "np.random.seed(13)\n",
    "\n",
    "pandas_dataframe = pd.DataFrame(\n",
    "    {\n",
    "        \"n\": np.random.randn(20),\n",
    "        \"group\": np.random.choice(list(\"xyz\"), 20),\n",
    "        \"abool\": np.random.choice([True, False], 20),\n",
    "    }\n",
    ")\n",
    "\n",
    "df = spark.createDataFrame(pandas_dataframe)"
   ]
  },
  {
   "cell_type": "code",
   "execution_count": 64,
   "id": "c2ef7c6c",
   "metadata": {},
   "outputs": [],
   "source": [
    "df = df.selectExpr('n', 'n * -1 as n2', 'n * n as n3')"
   ]
  },
  {
   "cell_type": "code",
   "execution_count": 65,
   "id": "97983303",
   "metadata": {},
   "outputs": [
    {
     "data": {
      "text/plain": [
       "DataFrame[n: double, n2: double, n3: double]"
      ]
     },
     "execution_count": 65,
     "metadata": {},
     "output_type": "execute_result"
    }
   ],
   "source": [
    "df"
   ]
  },
  {
   "cell_type": "code",
   "execution_count": 58,
   "id": "8e1dc0e1",
   "metadata": {},
   "outputs": [
    {
     "data": {
      "text/plain": [
       "Column<'(group + abool)'>"
      ]
     },
     "execution_count": 58,
     "metadata": {},
     "output_type": "execute_result"
    }
   ],
   "source": [
    "df.group + df.abool"
   ]
  },
  {
   "cell_type": "code",
   "execution_count": 66,
   "id": "b1d9ea98",
   "metadata": {},
   "outputs": [],
   "source": [
    "df.select?"
   ]
  },
  {
   "cell_type": "code",
   "execution_count": 31,
   "id": "27f2c804",
   "metadata": {},
   "outputs": [
    {
     "ename": "AttributeError",
     "evalue": "'DataFrame' object has no attribute 'group'",
     "output_type": "error",
     "traceback": [
      "\u001b[0;31m---------------------------------------------------------------------------\u001b[0m",
      "\u001b[0;31mAttributeError\u001b[0m                            Traceback (most recent call last)",
      "\u001b[0;32m/var/folders/dy/6l70n7994h596yst0fdjbly40000gn/T/ipykernel_17664/1423271147.py\u001b[0m in \u001b[0;36m<module>\u001b[0;34m\u001b[0m\n\u001b[1;32m      2\u001b[0m \u001b[0;34m\u001b[0m\u001b[0m\n\u001b[1;32m      3\u001b[0m \u001b[0;31m# error only happens when inside of the select. contextualizes and tries to find datatypes before action is done.\u001b[0m\u001b[0;34m\u001b[0m\u001b[0;34m\u001b[0m\u001b[0m\n\u001b[0;32m----> 4\u001b[0;31m \u001b[0mdf\u001b[0m\u001b[0;34m.\u001b[0m\u001b[0mselect\u001b[0m\u001b[0;34m(\u001b[0m\u001b[0mdf\u001b[0m\u001b[0;34m.\u001b[0m\u001b[0mgroup\u001b[0m \u001b[0;34m+\u001b[0m \u001b[0mdf\u001b[0m\u001b[0;34m.\u001b[0m\u001b[0mabool\u001b[0m\u001b[0;34m)\u001b[0m\u001b[0;34m\u001b[0m\u001b[0;34m\u001b[0m\u001b[0m\n\u001b[0m",
      "\u001b[0;32m/usr/local/anaconda3/lib/python3.9/site-packages/pyspark/sql/dataframe.py\u001b[0m in \u001b[0;36m__getattr__\u001b[0;34m(self, name)\u001b[0m\n\u001b[1;32m   1657\u001b[0m         \"\"\"\n\u001b[1;32m   1658\u001b[0m         \u001b[0;32mif\u001b[0m \u001b[0mname\u001b[0m \u001b[0;32mnot\u001b[0m \u001b[0;32min\u001b[0m \u001b[0mself\u001b[0m\u001b[0;34m.\u001b[0m\u001b[0mcolumns\u001b[0m\u001b[0;34m:\u001b[0m\u001b[0;34m\u001b[0m\u001b[0;34m\u001b[0m\u001b[0m\n\u001b[0;32m-> 1659\u001b[0;31m             raise AttributeError(\n\u001b[0m\u001b[1;32m   1660\u001b[0m                 \"'%s' object has no attribute '%s'\" % (self.__class__.__name__, name))\n\u001b[1;32m   1661\u001b[0m         \u001b[0mjc\u001b[0m \u001b[0;34m=\u001b[0m \u001b[0mself\u001b[0m\u001b[0;34m.\u001b[0m\u001b[0m_jdf\u001b[0m\u001b[0;34m.\u001b[0m\u001b[0mapply\u001b[0m\u001b[0;34m(\u001b[0m\u001b[0mname\u001b[0m\u001b[0;34m)\u001b[0m\u001b[0;34m\u001b[0m\u001b[0;34m\u001b[0m\u001b[0m\n",
      "\u001b[0;31mAttributeError\u001b[0m: 'DataFrame' object has no attribute 'group'"
     ]
    }
   ],
   "source": [
    "# spark is running on java virtual machine, cannot add with the '+' like in python\n",
    "\n",
    "# error only happens when inside of the select. contextualizes and tries to find datatypes before action is done.\n",
    "df.select(df.group + df.abool)"
   ]
  },
  {
   "cell_type": "code",
   "execution_count": 61,
   "id": "39b7b9b2",
   "metadata": {},
   "outputs": [
    {
     "name": "stdout",
     "output_type": "stream",
     "text": [
      "+-----+\n",
      "|group|\n",
      "+-----+\n",
      "| null|\n",
      "| null|\n",
      "| null|\n",
      "| null|\n",
      "| null|\n",
      "| null|\n",
      "| null|\n",
      "| null|\n",
      "| null|\n",
      "| null|\n",
      "| null|\n",
      "| null|\n",
      "| null|\n",
      "| null|\n",
      "| null|\n",
      "| null|\n",
      "| null|\n",
      "| null|\n",
      "| null|\n",
      "| null|\n",
      "+-----+\n",
      "\n"
     ]
    }
   ],
   "source": [
    "df.select(df.group.cast('double')).show()"
   ]
  },
  {
   "cell_type": "markdown",
   "id": "d745e446",
   "metadata": {},
   "source": [
    "## Transforming Columns\n",
    "\n",
    "- Built-in Functions\n",
    "- Changing Datatypes\n",
    "- String Manipulation\n",
    "- When, Otherwise"
   ]
  },
  {
   "cell_type": "code",
   "execution_count": 32,
   "id": "a16de351",
   "metadata": {},
   "outputs": [],
   "source": [
    "df = spark.createDataFrame(pydataset.data('tips'))"
   ]
  },
  {
   "cell_type": "code",
   "execution_count": 75,
   "id": "b6664750",
   "metadata": {},
   "outputs": [
    {
     "name": "stdout",
     "output_type": "stream",
     "text": [
      "+----------+----+------+------+---+------+----+\n",
      "|total_bill| tip|   sex|smoker|day|  time|size|\n",
      "+----------+----+------+------+---+------+----+\n",
      "|     16.99|1.01|Female|    No|Sun|Dinner|   2|\n",
      "|     10.34|1.66|  Male|    No|Sun|Dinner|   3|\n",
      "|     21.01| 3.5|  Male|    No|Sun|Dinner|   3|\n",
      "|     23.68|3.31|  Male|    No|Sun|Dinner|   2|\n",
      "|     24.59|3.61|Female|    No|Sun|Dinner|   4|\n",
      "+----------+----+------+------+---+------+----+\n",
      "only showing top 5 rows\n",
      "\n"
     ]
    }
   ],
   "source": [
    "df.show(5)"
   ]
  },
  {
   "cell_type": "code",
   "execution_count": 77,
   "id": "56ed416e",
   "metadata": {},
   "outputs": [
    {
     "data": {
      "text/plain": [
       "6"
      ]
     },
     "execution_count": 77,
     "metadata": {},
     "output_type": "execute_result"
    }
   ],
   "source": [
    "sum([1, 2, 3])"
   ]
  },
  {
   "cell_type": "code",
   "execution_count": 85,
   "id": "22b56454",
   "metadata": {},
   "outputs": [],
   "source": [
    "from pyspark.sql.functions import sum"
   ]
  },
  {
   "cell_type": "code",
   "execution_count": 86,
   "id": "53adc289",
   "metadata": {},
   "outputs": [
    {
     "name": "stdout",
     "output_type": "stream",
     "text": [
      "+---------------+\n",
      "|sum(total_bill)|\n",
      "+---------------+\n",
      "|        4827.77|\n",
      "+---------------+\n",
      "\n"
     ]
    }
   ],
   "source": [
    "df.select(sum(df.total_bill)).show()"
   ]
  },
  {
   "cell_type": "code",
   "execution_count": 89,
   "id": "1c1a5f86",
   "metadata": {},
   "outputs": [],
   "source": [
    "from builtins import sum"
   ]
  },
  {
   "cell_type": "code",
   "execution_count": 90,
   "id": "36d12233",
   "metadata": {},
   "outputs": [
    {
     "data": {
      "text/plain": [
       "6"
      ]
     },
     "execution_count": 90,
     "metadata": {},
     "output_type": "execute_result"
    }
   ],
   "source": [
    "sum([1, 2, 3])"
   ]
  },
  {
   "cell_type": "code",
   "execution_count": 91,
   "id": "f4a71c2a",
   "metadata": {},
   "outputs": [],
   "source": [
    "import pyspark.sql.functions as F"
   ]
  },
  {
   "cell_type": "code",
   "execution_count": 92,
   "id": "4cc2ce80",
   "metadata": {},
   "outputs": [
    {
     "name": "stdout",
     "output_type": "stream",
     "text": [
      "+---------------+----------------+\n",
      "|sum(total_bill)|        avg(tip)|\n",
      "+---------------+----------------+\n",
      "|        4827.77|2.99827868852459|\n",
      "+---------------+----------------+\n",
      "\n"
     ]
    }
   ],
   "source": [
    "df.select(F.sum('total_bill'), F.mean('tip')).show(5)"
   ]
  },
  {
   "cell_type": "code",
   "execution_count": 95,
   "id": "b7471abd",
   "metadata": {},
   "outputs": [],
   "source": [
    "from pyspark.sql.functions import *"
   ]
  },
  {
   "cell_type": "code",
   "execution_count": 106,
   "id": "866c1590",
   "metadata": {},
   "outputs": [
    {
     "name": "stdout",
     "output_type": "stream",
     "text": [
      "+------+-------+----------+-----------------------+\n",
      "|time  |first_3|total_bill|bill_message           |\n",
      "+------+-------+----------+-----------------------+\n",
      "|Dinner|Din    |16.99     |the total bill is 16.99|\n",
      "|Dinner|Din    |10.34     |the total bill is 10.34|\n",
      "|Dinner|Din    |21.01     |the total bill is 21.01|\n",
      "|Dinner|Din    |23.68     |the total bill is 23.68|\n",
      "|Dinner|Din    |24.59     |the total bill is 24.59|\n",
      "+------+-------+----------+-----------------------+\n",
      "only showing top 5 rows\n",
      "\n"
     ]
    }
   ],
   "source": [
    "df.select(\n",
    "    'time',\n",
    "    regexp_extract('time', r'^(...)', 1).alias('first_3'),\n",
    "    'total_bill',\n",
    "    concat(lit('the total bill is '), 'total_bill').alias('bill_message')\n",
    ").show(5, truncate=False)"
   ]
  },
  {
   "cell_type": "code",
   "execution_count": 109,
   "id": "276a901a",
   "metadata": {},
   "outputs": [
    {
     "name": "stdout",
     "output_type": "stream",
     "text": [
      "+----+---+\n",
      "| tip|tip|\n",
      "+----+---+\n",
      "|1.01|  1|\n",
      "|1.66|  1|\n",
      "| 3.5|  3|\n",
      "|3.31|  3|\n",
      "|3.61|  3|\n",
      "+----+---+\n",
      "only showing top 5 rows\n",
      "\n"
     ]
    }
   ],
   "source": [
    "df.select('tip', df.tip.cast('int')).show(5)"
   ]
  },
  {
   "cell_type": "markdown",
   "id": "5ccd96a4",
   "metadata": {},
   "source": [
    "Common Types:\n",
    "\n",
    "- int: integers\n",
    "- double: decimal numbers\n",
    "- booleans\n",
    "- strings\n",
    "\n",
    "[See the spark docs for more.](https://spark.apache.org/docs/latest/sql-ref-datatypes.html)"
   ]
  },
  {
   "cell_type": "code",
   "execution_count": 110,
   "id": "da62abf2",
   "metadata": {},
   "outputs": [
    {
     "name": "stdout",
     "output_type": "stream",
     "text": [
      "+----------+----+------+------+---+------+----+\n",
      "|total_bill| tip|   sex|smoker|day|  time|size|\n",
      "+----------+----+------+------+---+------+----+\n",
      "|     16.99|1.01|Female|    No|Sun|Dinner|   2|\n",
      "|     10.34|1.66|  Male|    No|Sun|Dinner|   3|\n",
      "|     21.01| 3.5|  Male|    No|Sun|Dinner|   3|\n",
      "|     23.68|3.31|  Male|    No|Sun|Dinner|   2|\n",
      "|     24.59|3.61|Female|    No|Sun|Dinner|   4|\n",
      "|     25.29|4.71|  Male|    No|Sun|Dinner|   4|\n",
      "|      8.77| 2.0|  Male|    No|Sun|Dinner|   2|\n",
      "|     26.88|3.12|  Male|    No|Sun|Dinner|   4|\n",
      "|     15.04|1.96|  Male|    No|Sun|Dinner|   2|\n",
      "|     14.78|3.23|  Male|    No|Sun|Dinner|   2|\n",
      "|     10.27|1.71|  Male|    No|Sun|Dinner|   2|\n",
      "|     35.26| 5.0|Female|    No|Sun|Dinner|   4|\n",
      "|     15.42|1.57|  Male|    No|Sun|Dinner|   2|\n",
      "|     18.43| 3.0|  Male|    No|Sun|Dinner|   4|\n",
      "|     14.83|3.02|Female|    No|Sun|Dinner|   2|\n",
      "|     21.58|3.92|  Male|    No|Sun|Dinner|   2|\n",
      "|     10.33|1.67|Female|    No|Sun|Dinner|   3|\n",
      "|     16.29|3.71|  Male|    No|Sun|Dinner|   3|\n",
      "|     16.97| 3.5|Female|    No|Sun|Dinner|   3|\n",
      "|     20.65|3.35|  Male|    No|Sat|Dinner|   3|\n",
      "+----------+----+------+------+---+------+----+\n",
      "only showing top 20 rows\n",
      "\n"
     ]
    }
   ],
   "source": [
    "df.show()"
   ]
  },
  {
   "cell_type": "code",
   "execution_count": 118,
   "id": "30795d00",
   "metadata": {},
   "outputs": [
    {
     "name": "stdout",
     "output_type": "stream",
     "text": [
      "type of bill_description <class 'pyspark.sql.column.Column'>\n",
      "+----------+-----------+\n",
      "|total_bill|  bill_desc|\n",
      "+----------+-----------+\n",
      "|     16.99| small bill|\n",
      "|     10.34| small bill|\n",
      "|     21.01|medium_bill|\n",
      "|     23.68|medium_bill|\n",
      "|     24.59|medium_bill|\n",
      "|     25.29|medium_bill|\n",
      "|      8.77| small bill|\n",
      "|     26.88|medium_bill|\n",
      "|     15.04| small bill|\n",
      "|     14.78| small bill|\n",
      "|     10.27| small bill|\n",
      "|     35.26| large bill|\n",
      "|     15.42| small bill|\n",
      "|     18.43| small bill|\n",
      "|     14.83| small bill|\n",
      "|     21.58|medium_bill|\n",
      "|     10.33| small bill|\n",
      "|     16.29| small bill|\n",
      "|     16.97| small bill|\n",
      "|     20.65|medium_bill|\n",
      "+----------+-----------+\n",
      "only showing top 20 rows\n",
      "\n"
     ]
    }
   ],
   "source": [
    "bill_description = (\n",
    "    when(df.total_bill < 20, 'small bill')\n",
    "    .when(df.total_bill < 30, 'medium_bill')\n",
    "    .otherwise('large bill')\n",
    "    .alias('bill_desc')\n",
    ")\n",
    "print('type of bill_description', type(bill_description))\n",
    "df.select(\n",
    "    'total_bill',\n",
    "    bill_description,\n",
    ").show()"
   ]
  },
  {
   "cell_type": "code",
   "execution_count": 122,
   "id": "169ca1fa",
   "metadata": {},
   "outputs": [
    {
     "name": "stdout",
     "output_type": "stream",
     "text": [
      "+----------+----------------+\n",
      "|total_bill|bill_description|\n",
      "+----------+----------------+\n",
      "|     16.99|      small bill|\n",
      "|     10.34|      small bill|\n",
      "|     21.01|     medium bill|\n",
      "|     23.68|     medium bill|\n",
      "|     24.59|     medium bill|\n",
      "|     25.29|     medium bill|\n",
      "|      8.77|      small bill|\n",
      "|     26.88|     medium bill|\n",
      "|     15.04|      small bill|\n",
      "|     14.78|      small bill|\n",
      "|     10.27|      small bill|\n",
      "|     35.26|      large bill|\n",
      "|     15.42|      small bill|\n",
      "|     18.43|      small bill|\n",
      "|     14.83|      small bill|\n",
      "|     21.58|     medium bill|\n",
      "|     10.33|      small bill|\n",
      "|     16.29|      small bill|\n",
      "|     16.97|      small bill|\n",
      "|     20.65|     medium bill|\n",
      "+----------+----------------+\n",
      "only showing top 20 rows\n",
      "\n"
     ]
    }
   ],
   "source": [
    "bill_description = '''\n",
    "CASE\n",
    "    WHEN total_bill < 20 THEN 'small bill'\n",
    "    WHEN total_bill < 30 THEN 'medium bill'\n",
    "    ELSE 'large bill'\n",
    "END AS bill_description\n",
    "'''\n",
    "\n",
    "df.selectExpr('total_bill', bill_description).show()"
   ]
  },
  {
   "cell_type": "code",
   "execution_count": 123,
   "id": "c7ecf96d",
   "metadata": {},
   "outputs": [
    {
     "name": "stdout",
     "output_type": "stream",
     "text": [
      "+--------+\n",
      "|min(tip)|\n",
      "+--------+\n",
      "|     1.0|\n",
      "+--------+\n",
      "\n"
     ]
    }
   ],
   "source": [
    "df.select(min(df.tip)).show()"
   ]
  },
  {
   "cell_type": "markdown",
   "id": "0aa7b9a4",
   "metadata": {},
   "source": [
    "## Sorting and Filtering"
   ]
  },
  {
   "cell_type": "code",
   "execution_count": 132,
   "id": "5d32a615",
   "metadata": {},
   "outputs": [
    {
     "name": "stdout",
     "output_type": "stream",
     "text": [
      "+----------+----+----+------+---+------+----+\n",
      "|total_bill| tip| sex|smoker|day|  time|size|\n",
      "+----------+----+----+------+---+------+----+\n",
      "|     50.81|10.0|Male|   Yes|Sat|Dinner|   3|\n",
      "|     48.33| 9.0|Male|    No|Sat|Dinner|   4|\n",
      "|     39.42|7.58|Male|    No|Sat|Dinner|   4|\n",
      "+----------+----+----+------+---+------+----+\n",
      "\n"
     ]
    }
   ],
   "source": [
    "df.where(df.tip > 7).sort('size', df.total_bill.desc()).show()"
   ]
  },
  {
   "cell_type": "code",
   "execution_count": 130,
   "id": "5db1bd08",
   "metadata": {},
   "outputs": [
    {
     "data": {
      "text/plain": [
       "Column<'(time = Dinner)'>"
      ]
     },
     "execution_count": 130,
     "metadata": {},
     "output_type": "execute_result"
    }
   ],
   "source": [
    "df.time == \"Dinner\""
   ]
  },
  {
   "cell_type": "code",
   "execution_count": 133,
   "id": "f6518396",
   "metadata": {},
   "outputs": [
    {
     "name": "stdout",
     "output_type": "stream",
     "text": [
      "+----------+----+------+------+---+------+----+\n",
      "|total_bill| tip|   sex|smoker|day|  time|size|\n",
      "+----------+----+------+------+---+------+----+\n",
      "|     20.65|3.35|  Male|    No|Sat|Dinner|   3|\n",
      "|     17.92|4.08|  Male|    No|Sat|Dinner|   2|\n",
      "|     20.29|2.75|Female|    No|Sat|Dinner|   2|\n",
      "|     15.77|2.23|Female|    No|Sat|Dinner|   2|\n",
      "|     39.42|7.58|  Male|    No|Sat|Dinner|   4|\n",
      "+----------+----+------+------+---+------+----+\n",
      "only showing top 5 rows\n",
      "\n"
     ]
    }
   ],
   "source": [
    "df.filter((df.time == \"Dinner\") & (df.day == \"Sat\")).show(5)"
   ]
  },
  {
   "cell_type": "code",
   "execution_count": 134,
   "id": "e71c84f4",
   "metadata": {},
   "outputs": [
    {
     "name": "stdout",
     "output_type": "stream",
     "text": [
      "+----------+----+----+------+----+------+----+\n",
      "|total_bill| tip| sex|smoker| day|  time|size|\n",
      "+----------+----+----+------+----+------+----+\n",
      "|     50.81|10.0|Male|   Yes| Sat|Dinner|   3|\n",
      "|     48.33| 9.0|Male|    No| Sat|Dinner|   4|\n",
      "|     39.42|7.58|Male|    No| Sat|Dinner|   4|\n",
      "|     48.27|6.73|Male|    No| Sat|Dinner|   4|\n",
      "|      34.3| 6.7|Male|    No|Thur| Lunch|   6|\n",
      "+----------+----+----+------+----+------+----+\n",
      "only showing top 5 rows\n",
      "\n"
     ]
    }
   ],
   "source": [
    "df.orderBy(col('tip').desc()).show(5)"
   ]
  },
  {
   "cell_type": "markdown",
   "id": "3e8050d7",
   "metadata": {},
   "source": [
    "## Aggregating\n",
    "\n",
    "- group by\n",
    "- crosstab + pivot"
   ]
  },
  {
   "cell_type": "code",
   "execution_count": 137,
   "id": "9bda63fa",
   "metadata": {},
   "outputs": [
    {
     "name": "stderr",
     "output_type": "stream",
     "text": [
      "[Stage 98:=================>                                       (3 + 7) / 10]\r"
     ]
    },
    {
     "name": "stdout",
     "output_type": "stream",
     "text": [
      "+----+------------------+---------------+---------------+\n",
      "| day|           avg_tip|max(total_bill)|min(total_bill)|\n",
      "+----+------------------+---------------+---------------+\n",
      "| Sun|3.2551315789473683|          48.17|           7.25|\n",
      "| Sat| 2.993103448275862|          50.81|           3.07|\n",
      "|Thur| 2.771451612903226|          43.11|           7.51|\n",
      "| Fri| 2.734736842105263|          40.17|           5.75|\n",
      "+----+------------------+---------------+---------------+\n",
      "\n"
     ]
    },
    {
     "name": "stderr",
     "output_type": "stream",
     "text": [
      "                                                                                \r"
     ]
    }
   ],
   "source": [
    "df.groupBy('day').agg(mean('tip').alias('avg_tip'), max('total_bill'), min('total_bill')).show()"
   ]
  },
  {
   "cell_type": "code",
   "execution_count": 138,
   "id": "a702a034",
   "metadata": {},
   "outputs": [
    {
     "name": "stderr",
     "output_type": "stream",
     "text": [
      "[Stage 101:>                                                      (0 + 10) / 10]\r"
     ]
    },
    {
     "name": "stdout",
     "output_type": "stream",
     "text": [
      "+------+----+------+------------------+\n",
      "|   sex| day|smoker|          avg(tip)|\n",
      "+------+----+------+------------------+\n",
      "|  Male| Sun|    No|3.1153488372093023|\n",
      "|Female| Sun|    No| 3.329285714285714|\n",
      "|  Male| Sat|    No|3.2565625000000002|\n",
      "|Female| Sat|    No| 2.724615384615385|\n",
      "|  Male| Sat|   Yes| 2.879259259259259|\n",
      "|Female| Sat|   Yes| 2.868666666666667|\n",
      "|Female| Fri|   Yes| 2.682857142857143|\n",
      "|  Male|Thur|    No|            2.9415|\n",
      "|  Male|Thur|   Yes|             3.058|\n",
      "|  Male| Fri|   Yes|           2.74125|\n",
      "|Female| Fri|    No|             3.125|\n",
      "|Female|Thur|    No|            2.4596|\n",
      "|  Male| Fri|    No|               2.5|\n",
      "|Female| Sun|   Yes|               3.5|\n",
      "|Female|Thur|   Yes|2.9899999999999998|\n",
      "|  Male| Sun|   Yes| 3.521333333333333|\n",
      "+------+----+------+------------------+\n",
      "\n"
     ]
    },
    {
     "name": "stderr",
     "output_type": "stream",
     "text": [
      "                                                                                \r"
     ]
    }
   ],
   "source": [
    "df.groupby('sex', 'day', 'smoker').agg(mean('tip')).show()"
   ]
  },
  {
   "cell_type": "code",
   "execution_count": 140,
   "id": "2cf13a7f",
   "metadata": {},
   "outputs": [
    {
     "name": "stderr",
     "output_type": "stream",
     "text": [
      "[Stage 116:>                                                      (0 + 10) / 10]\r"
     ]
    },
    {
     "name": "stdout",
     "output_type": "stream",
     "text": [
      "+----+------------------+------------------+\n",
      "| day|            Dinner|             Lunch|\n",
      "+----+------------------+------------------+\n",
      "|Thur|               3.0|2.7677049180327873|\n",
      "| Sun|3.2551315789473683|              null|\n",
      "| Sat| 2.993103448275862|              null|\n",
      "| Fri|              2.94| 2.382857142857143|\n",
      "+----+------------------+------------------+\n",
      "\n"
     ]
    },
    {
     "name": "stderr",
     "output_type": "stream",
     "text": [
      "                                                                                \r"
     ]
    }
   ],
   "source": [
    "df.groupby('day').pivot('time').agg(mean('tip')).show()"
   ]
  },
  {
   "cell_type": "code",
   "execution_count": 141,
   "id": "db488d2f",
   "metadata": {},
   "outputs": [
    {
     "name": "stderr",
     "output_type": "stream",
     "text": [
      "                                                                                \r"
     ]
    },
    {
     "name": "stdout",
     "output_type": "stream",
     "text": [
      "+--------+------+-----+\n",
      "|day_time|Dinner|Lunch|\n",
      "+--------+------+-----+\n",
      "|     Sat|    87|    0|\n",
      "|     Sun|    76|    0|\n",
      "|     Fri|    12|    7|\n",
      "|    Thur|     1|   61|\n",
      "+--------+------+-----+\n",
      "\n"
     ]
    }
   ],
   "source": [
    "df.crosstab('day', 'time').show()"
   ]
  },
  {
   "cell_type": "markdown",
   "id": "29992f75",
   "metadata": {},
   "source": [
    "## Additional Features\n",
    "\n",
    "- `.explain`\n",
    "- spark sql\n",
    "- missing values"
   ]
  },
  {
   "cell_type": "markdown",
   "id": "d32bb2ad",
   "metadata": {},
   "source": [
    "### Explaining Dataframes"
   ]
  },
  {
   "cell_type": "code",
   "execution_count": 142,
   "id": "38b7457c",
   "metadata": {},
   "outputs": [
    {
     "name": "stdout",
     "output_type": "stream",
     "text": [
      "== Physical Plan ==\n",
      "*(1) Scan ExistingRDD[total_bill#1141,tip#1142,sex#1143,smoker#1144,day#1145,time#1146,size#1147L]\n",
      "\n",
      "\n"
     ]
    }
   ],
   "source": [
    "df.explain()"
   ]
  },
  {
   "cell_type": "code",
   "execution_count": 144,
   "id": "27cf2c3a",
   "metadata": {},
   "outputs": [
    {
     "name": "stdout",
     "output_type": "stream",
     "text": [
      "== Physical Plan ==\n",
      "*(1) Project [total_bill#1141, tip#1142, sex#1143, smoker#1144, day#1145, time#1146, size#1147L, (tip#1142 / total_bill#1141) AS tip_percent#2124]\n",
      "+- *(1) Scan ExistingRDD[total_bill#1141,tip#1142,sex#1143,smoker#1144,day#1145,time#1146,size#1147L]\n",
      "\n",
      "\n"
     ]
    }
   ],
   "source": [
    "df.selectExpr('*', 'tip / total_bill as tip_percent').explain()"
   ]
  },
  {
   "cell_type": "code",
   "execution_count": 147,
   "id": "f6a24e5d",
   "metadata": {},
   "outputs": [
    {
     "name": "stdout",
     "output_type": "stream",
     "text": [
      "== Physical Plan ==\n",
      "*(1) Project [tip#1142, total_bill#1141, (tip#1142 / total_bill#1141) AS tip_perc#2142]\n",
      "+- *(1) Filter (isnotnull(time#1146) AND (time#1146 = Lunch))\n",
      "   +- *(1) Scan ExistingRDD[total_bill#1141,tip#1142,sex#1143,smoker#1144,day#1145,time#1146,size#1147L]\n",
      "\n",
      "\n"
     ]
    }
   ],
   "source": [
    "df.filter(df.time == 'Lunch').selectExpr('tip', 'total_bill', 'tip / total_bill as tip_perc').explain()"
   ]
  },
  {
   "cell_type": "code",
   "execution_count": 148,
   "id": "58bf5060",
   "metadata": {},
   "outputs": [
    {
     "name": "stdout",
     "output_type": "stream",
     "text": [
      "== Physical Plan ==\n",
      "*(1) Project [tip#1142, total_bill#1141, (tip#1142 / total_bill#1141) AS tip_perc#2146]\n",
      "+- *(1) Filter (isnotnull(time#1146) AND (time#1146 = Lunch))\n",
      "   +- *(1) Scan ExistingRDD[total_bill#1141,tip#1142,sex#1143,smoker#1144,day#1145,time#1146,size#1147L]\n",
      "\n",
      "\n"
     ]
    }
   ],
   "source": [
    "df.selectExpr('tip', 'total_bill', 'tip / total_bill as tip_perc').filter(df.time == 'Lunch').explain()"
   ]
  },
  {
   "cell_type": "markdown",
   "id": "e7ac2c3b",
   "metadata": {},
   "source": [
    "### Null Values"
   ]
  },
  {
   "cell_type": "code",
   "execution_count": 149,
   "id": "4747d906",
   "metadata": {},
   "outputs": [
    {
     "name": "stderr",
     "output_type": "stream",
     "text": [
      "[Stage 131:>                                                      (0 + 10) / 10]\r"
     ]
    },
    {
     "name": "stdout",
     "output_type": "stream",
     "text": [
      "+----+------------------+------------------+\n",
      "| day|            Dinner|             Lunch|\n",
      "+----+------------------+------------------+\n",
      "|Thur|               3.0|2.7677049180327873|\n",
      "| Sun|3.2551315789473683|              null|\n",
      "| Sat| 2.993103448275862|              null|\n",
      "| Fri|              2.94| 2.382857142857143|\n",
      "+----+------------------+------------------+\n",
      "\n"
     ]
    },
    {
     "name": "stderr",
     "output_type": "stream",
     "text": [
      "                                                                                \r"
     ]
    }
   ],
   "source": [
    "df.groupby('day').pivot('time').agg(mean('tip')).show()"
   ]
  },
  {
   "cell_type": "code",
   "execution_count": 150,
   "id": "312d2bba",
   "metadata": {},
   "outputs": [
    {
     "name": "stdout",
     "output_type": "stream",
     "text": [
      "+----+------+------------------+\n",
      "| day|Dinner|             Lunch|\n",
      "+----+------+------------------+\n",
      "|Thur|   3.0|2.7677049180327873|\n",
      "| Fri|  2.94| 2.382857142857143|\n",
      "+----+------+------------------+\n",
      "\n"
     ]
    }
   ],
   "source": [
    "df.groupby('day').pivot('time').agg(mean('tip')).na.drop().show()"
   ]
  },
  {
   "cell_type": "code",
   "execution_count": 151,
   "id": "4a27359a",
   "metadata": {
    "scrolled": true
   },
   "outputs": [
    {
     "name": "stdout",
     "output_type": "stream",
     "text": [
      "+----+------------------+------------------+\n",
      "| day|            Dinner|             Lunch|\n",
      "+----+------------------+------------------+\n",
      "|Thur|               3.0|2.7677049180327873|\n",
      "| Sun|3.2551315789473683|              null|\n",
      "| Sat| 2.993103448275862|              null|\n",
      "| Fri|              2.94| 2.382857142857143|\n",
      "+----+------------------+------------------+\n",
      "\n"
     ]
    }
   ],
   "source": [
    "df.groupby('day').pivot('time').agg(mean('tip')).na.drop(subset=['Dinner']).show()"
   ]
  },
  {
   "cell_type": "code",
   "execution_count": 153,
   "id": "af4e79a5",
   "metadata": {},
   "outputs": [
    {
     "name": "stderr",
     "output_type": "stream",
     "text": [
      "                                                                                \r"
     ]
    },
    {
     "name": "stdout",
     "output_type": "stream",
     "text": [
      "+----+------------------+------------------+\n",
      "| day|            Dinner|             Lunch|\n",
      "+----+------------------+------------------+\n",
      "|Thur|               3.0|2.7677049180327873|\n",
      "| Sun|3.2551315789473683|               0.0|\n",
      "| Sat| 2.993103448275862|               0.0|\n",
      "| Fri|              2.94| 2.382857142857143|\n",
      "+----+------------------+------------------+\n",
      "\n"
     ]
    }
   ],
   "source": [
    "df.groupby('day').pivot('time').agg(mean('tip')).na.fill(0, subset=['Lunch']).show()"
   ]
  },
  {
   "cell_type": "markdown",
   "id": "401921ac",
   "metadata": {},
   "source": [
    "### Spark SQL"
   ]
  },
  {
   "cell_type": "code",
   "execution_count": 154,
   "id": "3147b002",
   "metadata": {},
   "outputs": [],
   "source": [
    "df.createOrReplaceTempView('tips')"
   ]
  },
  {
   "cell_type": "code",
   "execution_count": 157,
   "id": "cb04d82a",
   "metadata": {},
   "outputs": [
    {
     "name": "stdout",
     "output_type": "stream",
     "text": [
      "+----------+----+------+------+----+------+----+\n",
      "|total_bill| tip|   sex|smoker| day|  time|size|\n",
      "+----------+----+------+------+----+------+----+\n",
      "|      3.07| 1.0|Female|   Yes| Sat|Dinner|   1|\n",
      "|      5.75| 1.0|Female|   Yes| Fri|Dinner|   2|\n",
      "|      7.25|5.15|  Male|   Yes| Sun|Dinner|   2|\n",
      "|      7.25| 1.0|Female|    No| Sat|Dinner|   1|\n",
      "|      7.51| 2.0|  Male|    No|Thur| Lunch|   2|\n",
      "+----------+----+------+------+----+------+----+\n",
      "only showing top 5 rows\n",
      "\n"
     ]
    }
   ],
   "source": [
    "spark.sql('SELECT * FROM tips').sort('total_bill').show(5)"
   ]
  },
  {
   "cell_type": "code",
   "execution_count": 159,
   "id": "c83e93c0",
   "metadata": {},
   "outputs": [
    {
     "name": "stdout",
     "output_type": "stream",
     "text": [
      "+----+-------------------+\n",
      "| day|     tip_percentage|\n",
      "+----+-------------------+\n",
      "| Sun| 0.1520379065365422|\n",
      "| Sat|0.14642375168690958|\n",
      "|Thur|0.15673200587414376|\n",
      "| Fri|0.15944519455014117|\n",
      "+----+-------------------+\n",
      "\n"
     ]
    }
   ],
   "source": [
    "spark.sql('''\n",
    "SELECT day, tip / total_bill as tip_percentage\n",
    "FROM (\n",
    "    SELECT day, avg(total_bill) as total_bill, avg(tip) as tip\n",
    "    FROM tips\n",
    "    GROUP BY day\n",
    ") t\n",
    "''').show()"
   ]
  }
 ],
 "metadata": {
  "kernelspec": {
   "display_name": "Python 3 (ipykernel)",
   "language": "python",
   "name": "python3"
  },
  "language_info": {
   "codemirror_mode": {
    "name": "ipython",
    "version": 3
   },
   "file_extension": ".py",
   "mimetype": "text/x-python",
   "name": "python",
   "nbconvert_exporter": "python",
   "pygments_lexer": "ipython3",
   "version": "3.9.7"
  }
 },
 "nbformat": 4,
 "nbformat_minor": 5
}
