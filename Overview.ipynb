{
 "cells": [
  {
   "cell_type": "markdown",
   "id": "19cd506b",
   "metadata": {},
   "source": [
    "# Spark\n",
    "\n",
    "- What is spark?\n",
    "- When would you use spark?\n",
    "    - Big Data: 4 Vs\n",
    "        - Velocity: data is gathered quickly\n",
    "        - Variety: data comes from multiple sources and may not be uniform\n",
    "        - Veracity: data can be unreliable\n",
    "        - Volume: there's a lot of data\n",
    "     - Bigger than memory(>8GB) and bigger than storage (>512GB)\n",
    "         - memory: RAM, faster, smaller, more expensive, volatile\n",
    "         - storage: HDD, SDD, larger, cheaper, non-volatile, slower\n",
    "     - HDFS: a software tool for dealing with distributed data\n",
    "     - When you work somewhere that has spark setup -- Data Bricks\n",
    "     - Other tools: dask, polars, duckdb, sqlite\n",
    "- Spark Architecture\n",
    "    - Scala on JVM - scala runs on the java virtual machine\n",
    "    - Client Libraries -- **pyspark**, SparkR, etc\n",
    "    - Drivers, Cluster Managers/Masters, Executors\n",
    "    - Applications, Jobs, and Tasks\n",
    "- Parallel Work and Spark Dataframes\n",
    "    - faster for larger data, but with more overhead\n",
    "    - lazy: work isn't done until it has to be done\n",
    "        - spark can optimize queries\n",
    "    - **transformations and actions**\n",
    "    - Spark Dataframes -- kinda like pandas dataframes\n",
    "    - Spark SQL\n",
    "- Spark Lessons / Topics Covered\n",
    "    - Environment Setup\n",
    "    - Spark API\n",
    "    - Data Wrangling\n",
    "    - Data Exploration"
   ]
  }
 ],
 "metadata": {
  "kernelspec": {
   "display_name": "Python 3 (ipykernel)",
   "language": "python",
   "name": "python3"
  },
  "language_info": {
   "codemirror_mode": {
    "name": "ipython",
    "version": 3
   },
   "file_extension": ".py",
   "mimetype": "text/x-python",
   "name": "python",
   "nbconvert_exporter": "python",
   "pygments_lexer": "ipython3",
   "version": "3.9.7"
  }
 },
 "nbformat": 4,
 "nbformat_minor": 5
}
